{
  "cells": [
    {
      "cell_type": "markdown",
      "metadata": {
        "id": "view-in-github",
        "colab_type": "text"
      },
      "source": [
        "<a href=\"https://colab.research.google.com/github/Mahalaxmi-png/IIITH-Wiki/blob/main/WeatherApp.ipynb\" target=\"_parent\"><img src=\"https://colab.research.google.com/assets/colab-badge.svg\" alt=\"Open In Colab\"/></a>"
      ]
    },
    {
      "cell_type": "code",
      "execution_count": null,
      "metadata": {
        "colab": {
          "base_uri": "https://localhost:8080/"
        },
        "id": "FXGpNmj7uMVH",
        "outputId": "f13fb177-7038-41e9-eb39-8c59040386ff"
      },
      "outputs": [
        {
          "data": {
            "text/plain": [
              "['templates', 'static']"
            ]
          },
          "execution_count": 17,
          "metadata": {},
          "output_type": "execute_result"
        }
      ],
      "source": [
        "import os\n",
        "\n",
        "# Create the main project folder\n",
        "project_folder = '/content/weather_app'\n",
        "os.makedirs(project_folder, exist_ok=True)\n",
        "\n",
        "# Create subfolders inside the main folder\n",
        "templates_folder = os.path.join(project_folder, 'templates')\n",
        "static_folder = os.path.join(project_folder, 'static')\n",
        "\n",
        "# Create subfolder for styles inside 'static'\n",
        "css_folder = os.path.join(static_folder, 'css')\n",
        "js_folder = os.path.join(static_folder, 'js')\n",
        "\n",
        "# Creating the folders\n",
        "os.makedirs(templates_folder, exist_ok=True)\n",
        "os.makedirs(static_folder, exist_ok=True)\n",
        "os.makedirs(css_folder, exist_ok=True)\n",
        "os.makedirs(js_folder, exist_ok=True)\n",
        "\n",
        "# Checking if folders are created\n",
        "os.listdir(project_folder)\n"
      ]
    },
    {
      "cell_type": "code",
      "execution_count": null,
      "metadata": {
        "colab": {
          "base_uri": "https://localhost:8080/"
        },
        "id": "FfW3kFZmtW4_",
        "outputId": "2398b389-985d-48ab-9a8c-80f71f10cf57"
      },
      "outputs": [
        {
          "name": "stdout",
          "output_type": "stream",
          "text": [
            "Collecting flask-ngrok\n",
            "  Downloading flask_ngrok-0.0.25-py3-none-any.whl.metadata (1.8 kB)\n",
            "Requirement already satisfied: Flask>=0.8 in /usr/local/lib/python3.11/dist-packages (from flask-ngrok) (3.1.0)\n",
            "Requirement already satisfied: requests in /usr/local/lib/python3.11/dist-packages (from flask-ngrok) (2.32.3)\n",
            "Requirement already satisfied: Werkzeug>=3.1 in /usr/local/lib/python3.11/dist-packages (from Flask>=0.8->flask-ngrok) (3.1.3)\n",
            "Requirement already satisfied: Jinja2>=3.1.2 in /usr/local/lib/python3.11/dist-packages (from Flask>=0.8->flask-ngrok) (3.1.6)\n",
            "Requirement already satisfied: itsdangerous>=2.2 in /usr/local/lib/python3.11/dist-packages (from Flask>=0.8->flask-ngrok) (2.2.0)\n",
            "Requirement already satisfied: click>=8.1.3 in /usr/local/lib/python3.11/dist-packages (from Flask>=0.8->flask-ngrok) (8.1.8)\n",
            "Requirement already satisfied: blinker>=1.9 in /usr/local/lib/python3.11/dist-packages (from Flask>=0.8->flask-ngrok) (1.9.0)\n",
            "Requirement already satisfied: charset-normalizer<4,>=2 in /usr/local/lib/python3.11/dist-packages (from requests->flask-ngrok) (3.4.1)\n",
            "Requirement already satisfied: idna<4,>=2.5 in /usr/local/lib/python3.11/dist-packages (from requests->flask-ngrok) (3.10)\n",
            "Requirement already satisfied: urllib3<3,>=1.21.1 in /usr/local/lib/python3.11/dist-packages (from requests->flask-ngrok) (2.3.0)\n",
            "Requirement already satisfied: certifi>=2017.4.17 in /usr/local/lib/python3.11/dist-packages (from requests->flask-ngrok) (2025.1.31)\n",
            "Requirement already satisfied: MarkupSafe>=2.0 in /usr/local/lib/python3.11/dist-packages (from Jinja2>=3.1.2->Flask>=0.8->flask-ngrok) (3.0.2)\n",
            "Downloading flask_ngrok-0.0.25-py3-none-any.whl (3.1 kB)\n",
            "Installing collected packages: flask-ngrok\n",
            "Successfully installed flask-ngrok-0.0.25\n"
          ]
        }
      ],
      "source": [
        "\n",
        "!pip install flask-ngrok\n",
        "\n"
      ]
    },
    {
      "cell_type": "code",
      "execution_count": null,
      "metadata": {
        "colab": {
          "base_uri": "https://localhost:8080/"
        },
        "id": "nj4tCRFGzfMP",
        "outputId": "0caa2576-721c-4292-ed3b-a17c3a1869a3"
      },
      "outputs": [
        {
          "name": "stdout",
          "output_type": "stream",
          "text": [
            " * Serving Flask app '__main__'\n",
            " * Debug mode: off\n"
          ]
        }
      ],
      "source": [
        "from flask import Flask\n",
        "from threading import Thread\n",
        "\n",
        "app = Flask(__name__)\n",
        "\n",
        "@app.route('/')\n",
        "def home():\n",
        "    return \"Flask app is running!\"\n",
        "\n",
        "def run():\n",
        "    app.run()\n",
        "\n",
        "# Start Flask app in a thread\n",
        "t = Thread(target=run)\n",
        "t.start()\n"
      ]
    },
    {
      "cell_type": "code",
      "execution_count": null,
      "metadata": {
        "colab": {
          "base_uri": "https://localhost:8080/"
        },
        "id": "Ba59tJkLygnB",
        "outputId": "25142c0b-f3bd-4744-922b-86395d1b2ec5"
      },
      "outputs": [
        {
          "name": "stdout",
          "output_type": "stream",
          "text": [
            "Authtoken saved to configuration file: /root/.config/ngrok/ngrok.yml\n"
          ]
        }
      ],
      "source": [
        "!ngrok authtoken 2vhsyUe2nhYU5rpp1tguznTbgxC_3N7B1cpQcj9gBrNVBw1eB\n"
      ]
    },
    {
      "cell_type": "code",
      "execution_count": null,
      "metadata": {
        "colab": {
          "base_uri": "https://localhost:8080/"
        },
        "id": "LJ8bjGI-u56x",
        "outputId": "bb29eb1d-df2c-4053-e0e6-769f9e5227c7"
      },
      "outputs": [
        {
          "name": "stdout",
          "output_type": "stream",
          "text": [
            "Flask app is accessible at: NgrokTunnel: \"https://be08-34-85-252-107.ngrok-free.app\" -> \"http://localhost:5000\"\n"
          ]
        }
      ],
      "source": [
        "from pyngrok import ngrok\n",
        "\n",
        "# Open a tunnel on port 5000 (Flask default port)\n",
        "public_url = ngrok.connect(5000)\n",
        "print(f\"Flask app is accessible at: {public_url}\")\n"
      ]
    },
    {
      "cell_type": "code",
      "execution_count": null,
      "metadata": {
        "colab": {
          "base_uri": "https://localhost:8080/"
        },
        "id": "9q5N2HNqz1m6",
        "outputId": "bd22135b-8c4f-4da1-c54f-2e10fbf25774"
      },
      "outputs": [
        {
          "name": "stdout",
          "output_type": "stream",
          "text": [
            "Requirement already satisfied: flask in /usr/local/lib/python3.11/dist-packages (3.1.0)\n",
            "Requirement already satisfied: flask-ngrok in /usr/local/lib/python3.11/dist-packages (0.0.25)\n",
            "Requirement already satisfied: requests in /usr/local/lib/python3.11/dist-packages (2.32.3)\n",
            "Requirement already satisfied: Werkzeug>=3.1 in /usr/local/lib/python3.11/dist-packages (from flask) (3.1.3)\n",
            "Requirement already satisfied: Jinja2>=3.1.2 in /usr/local/lib/python3.11/dist-packages (from flask) (3.1.6)\n",
            "Requirement already satisfied: itsdangerous>=2.2 in /usr/local/lib/python3.11/dist-packages (from flask) (2.2.0)\n",
            "Requirement already satisfied: click>=8.1.3 in /usr/local/lib/python3.11/dist-packages (from flask) (8.1.8)\n",
            "Requirement already satisfied: blinker>=1.9 in /usr/local/lib/python3.11/dist-packages (from flask) (1.9.0)\n",
            "Requirement already satisfied: charset-normalizer<4,>=2 in /usr/local/lib/python3.11/dist-packages (from requests) (3.4.1)\n",
            "Requirement already satisfied: idna<4,>=2.5 in /usr/local/lib/python3.11/dist-packages (from requests) (3.10)\n",
            "Requirement already satisfied: urllib3<3,>=1.21.1 in /usr/local/lib/python3.11/dist-packages (from requests) (2.3.0)\n",
            "Requirement already satisfied: certifi>=2017.4.17 in /usr/local/lib/python3.11/dist-packages (from requests) (2025.1.31)\n",
            "Requirement already satisfied: MarkupSafe>=2.0 in /usr/local/lib/python3.11/dist-packages (from Jinja2>=3.1.2->flask) (3.0.2)\n"
          ]
        }
      ],
      "source": [
        "!pip install flask flask-ngrok requests\n",
        "!pip install flask pyngrok --quiet\n"
      ]
    },
    {
      "cell_type": "code",
      "execution_count": null,
      "metadata": {
        "id": "JZo0P4bX0BCo"
      },
      "outputs": [],
      "source": [
        "!fuser -k 5000/tcp\n"
      ]
    },
    {
      "cell_type": "code",
      "execution_count": null,
      "metadata": {
        "colab": {
          "background_save": true,
          "base_uri": "https://localhost:8080/"
        },
        "id": "sZ9EPysKz4F_",
        "outputId": "ee6ec996-9070-4789-9fe7-c95a114d1b53"
      },
      "outputs": [
        {
          "name": "stdout",
          "output_type": "stream",
          "text": [
            " * ngrok tunnel URL: NgrokTunnel: \"https://94ef-34-85-252-107.ngrok-free.app\" -> \"http://localhost:5000\"\n",
            " * Serving Flask app '__main__'\n",
            " * Debug mode: off\n"
          ]
        },
        {
          "name": "stderr",
          "output_type": "stream",
          "text": [
            "INFO:werkzeug:\u001b[31m\u001b[1mWARNING: This is a development server. Do not use it in a production deployment. Use a production WSGI server instead.\u001b[0m\n",
            " * Running on http://127.0.0.1:5000\n",
            "INFO:werkzeug:\u001b[33mPress CTRL+C to quit\u001b[0m\n",
            "INFO:werkzeug:127.0.0.1 - - [14/Apr/2025 05:51:43] \"GET / HTTP/1.1\" 200 -\n",
            "INFO:werkzeug:127.0.0.1 - - [14/Apr/2025 05:51:44] \"\u001b[33mGET /favicon.ico HTTP/1.1\u001b[0m\" 404 -\n",
            "INFO:werkzeug:127.0.0.1 - - [14/Apr/2025 05:51:45] \"GET /weather HTTP/1.1\" 200 -\n",
            "INFO:werkzeug:127.0.0.1 - - [14/Apr/2025 05:51:48] \"POST /weather HTTP/1.1\" 200 -\n"
          ]
        }
      ],
      "source": [
        "from flask import Flask, render_template_string, request\n",
        "from pyngrok import ngrok\n",
        "import requests\n",
        "\n",
        "app = Flask(__name__)\n",
        "\n",
        "# HTML for the Opening Page with Bootstrap\n",
        "opening_page_html = '''\n",
        "<!doctype html>\n",
        "<html lang=\"en\">\n",
        "<head>\n",
        "    <meta charset=\"UTF-8\">\n",
        "    <meta name=\"viewport\" content=\"width=device-width, initial-scale=1.0\">\n",
        "    <title>Weather App - Welcome</title>\n",
        "    <link href=\"https://cdn.jsdelivr.net/npm/bootstrap@5.3.0-alpha1/dist/css/bootstrap.min.css\" rel=\"stylesheet\">\n",
        "    <style>\n",
        "        .welcome-container {\n",
        "            padding: 50px;\n",
        "            text-align: center;\n",
        "        }\n",
        "        .btn-custom {\n",
        "            background-color: #4CAF50;\n",
        "            color: white;\n",
        "            border-radius: 5px;\n",
        "            font-size: 20px;\n",
        "            padding: 12px 30px;\n",
        "            text-decoration: none;\n",
        "        }\n",
        "        .btn-custom:hover {\n",
        "            background-color: #45a049;\n",
        "        }\n",
        "    </style>\n",
        "</head>\n",
        "<body class=\"bg-light\">\n",
        "    <div class=\"container welcome-container\">\n",
        "        <h1 class=\"display-4 text-success\">Welcome to the Weather App</h1>\n",
        "        <p class=\"lead\">Get real-time weather updates for any city across the world!</p>\n",
        "        <a href=\"/weather\" class=\"btn btn-custom\">Get Started</a>\n",
        "    </div>\n",
        "</body>\n",
        "</html>\n",
        "'''\n",
        "\n",
        "# HTML for Weather Page with Bootstrap\n",
        "weather_page_html = '''\n",
        "<!doctype html>\n",
        "<html lang=\"en\">\n",
        "<head>\n",
        "    <meta charset=\"UTF-8\">\n",
        "    <meta name=\"viewport\" content=\"width=device-width, initial-scale=1.0\">\n",
        "    <title>Weather App</title>\n",
        "    <link href=\"https://cdn.jsdelivr.net/npm/bootstrap@5.3.0-alpha1/dist/css/bootstrap.min.css\" rel=\"stylesheet\">\n",
        "    <style>\n",
        "        .weather-container {\n",
        "            padding: 30px;\n",
        "            border-radius: 10px;\n",
        "            box-shadow: 0 4px 8px rgba(0, 0, 0, 0.1);\n",
        "            background-color: white;\n",
        "            max-width: 600px;\n",
        "            margin: auto;\n",
        "        }\n",
        "        .btn-custom {\n",
        "            background-color: #4CAF50;\n",
        "            color: white;\n",
        "            border-radius: 5px;\n",
        "            font-size: 18px;\n",
        "        }\n",
        "        .btn-custom:hover {\n",
        "            background-color: #45a049;\n",
        "        }\n",
        "        .result p {\n",
        "            font-size: 18px;\n",
        "        }\n",
        "        .error {\n",
        "            color: red;\n",
        "            font-weight: bold;\n",
        "        }\n",
        "    </style>\n",
        "</head>\n",
        "<body class=\"bg-light\">\n",
        "    <div class=\"container weather-container\">\n",
        "        <h2 class=\"text-center text-success\">Enter a City</h2>\n",
        "        <form method=\"post\" class=\"d-flex flex-column align-items-center\">\n",
        "            <div class=\"form-group mb-3\">\n",
        "                <input name=\"city\" type=\"text\" class=\"form-control\" placeholder=\"City name\" required>\n",
        "            </div>\n",
        "            <button type=\"submit\" class=\"btn btn-custom mb-3\">Get Weather</button>\n",
        "        </form>\n",
        "        {% if weather %}\n",
        "            <div class=\"result text-center\">\n",
        "                {% if weather['name'] != 'Not Found' %}\n",
        "                    <p><strong>City:</strong> {{ weather['name'] }}</p>\n",
        "                    <p><strong>Temperature:</strong> {{ weather['main']['temp'] }}°C</p>\n",
        "                    <p><strong>Weather:</strong> {{ weather['weather'][0]['description'] }}</p>\n",
        "                {% else %}\n",
        "                    <p class=\"error\">{{ weather['weather'][0]['description'] }}</p>\n",
        "                {% endif %}\n",
        "            </div>\n",
        "        {% endif %}\n",
        "    </div>\n",
        "</body>\n",
        "</html>\n",
        "'''\n",
        "\n",
        "@app.route(\"/\", methods=[\"GET\"])\n",
        "def home():\n",
        "    return render_template_string(opening_page_html)\n",
        "\n",
        "@app.route(\"/weather\", methods=[\"GET\", \"POST\"])\n",
        "def weather():\n",
        "    weather = None\n",
        "    if request.method == \"POST\":\n",
        "        city = request.form[\"city\"]\n",
        "        api_key = \"6f4c378993088de2aa2e21fd92f60eff\"  # Replace this with your OpenWeatherMap API key\n",
        "        url = f\"https://api.openweathermap.org/data/2.5/weather?q={city}&appid={api_key}&units=metric\"\n",
        "        response = requests.get(url)\n",
        "        if response.status_code == 200:\n",
        "            weather = response.json()\n",
        "        else:\n",
        "            weather = {\"name\": \"Not Found\", \"main\": {\"temp\": \"N/A\"}, \"weather\": [{\"description\": \"Invalid City\"}]}\n",
        "    return render_template_string(weather_page_html, weather=weather)\n",
        "\n",
        "# 🔁 Start Flask server with ngrok tunnel\n",
        "port = 5000\n",
        "public_url = ngrok.connect(port)\n",
        "print(\" * ngrok tunnel URL:\", public_url)\n",
        "app.run(port=port)\n"
      ]
    }
  ],
  "metadata": {
    "colab": {
      "provenance": [],
      "authorship_tag": "ABX9TyNalfrH3e+iozhVBnAjWRRz",
      "include_colab_link": true
    },
    "kernelspec": {
      "display_name": "Python 3",
      "name": "python3"
    },
    "language_info": {
      "name": "python"
    }
  },
  "nbformat": 4,
  "nbformat_minor": 0
}